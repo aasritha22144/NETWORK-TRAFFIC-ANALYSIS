{
  "cells": [
    {
      "cell_type": "code",
      "execution_count": 1,
      "metadata": {
        "id": "ZkHOfL8etHdA"
      },
      "outputs": [],
      "source": [
        "from sklearn.model_selection import train_test_split\n",
        "from sklearn.ensemble import RandomForestClassifier\n",
        "from sklearn.preprocessing import StandardScaler\n",
        "from sklearn.linear_model import LogisticRegression\n",
        "from sklearn.metrics import confusion_matrix, accuracy_score, ConfusionMatrixDisplay, classification_report\n",
        "from sklearn.decomposition import PCA\n",
        "from sklearn.model_selection import KFold\n",
        "from sklearn.naive_bayes import MultinomialNB\n",
        "from sklearn.tree import DecisionTreeClassifier\n",
        "from sklearn.metrics import roc_curve, roc_auc_score"
      ]
    },
    {
      "cell_type": "code",
      "execution_count": 5,
      "metadata": {
        "colab": {
          "base_uri": "https://localhost:8080/",
          "height": 790
        },
        "id": "Rg_hfSaltbUG",
        "outputId": "2f56c998-d23c-4499-e35b-88f6a51c9db1"
      },
      "outputs": [
        {
          "data": {
            "text/html": [
              "<div>\n",
              "<style scoped>\n",
              "    .dataframe tbody tr th:only-of-type {\n",
              "        vertical-align: middle;\n",
              "    }\n",
              "\n",
              "    .dataframe tbody tr th {\n",
              "        vertical-align: top;\n",
              "    }\n",
              "\n",
              "    .dataframe thead th {\n",
              "        text-align: right;\n",
              "    }\n",
              "</style>\n",
              "<table border=\"1\" class=\"dataframe\">\n",
              "  <thead>\n",
              "    <tr style=\"text-align: right;\">\n",
              "      <th></th>\n",
              "      <th>Flow.ID</th>\n",
              "      <th>Source.IP</th>\n",
              "      <th>Source.Port</th>\n",
              "      <th>Destination.IP</th>\n",
              "      <th>Destination.Port</th>\n",
              "      <th>Protocol</th>\n",
              "      <th>Timestamp</th>\n",
              "      <th>Flow.Duration</th>\n",
              "      <th>Total.Fwd.Packets</th>\n",
              "      <th>Total.Backward.Packets</th>\n",
              "      <th>...</th>\n",
              "      <th>Active.Std</th>\n",
              "      <th>Active.Max</th>\n",
              "      <th>Active.Min</th>\n",
              "      <th>Idle.Mean</th>\n",
              "      <th>Idle.Std</th>\n",
              "      <th>Idle.Max</th>\n",
              "      <th>Idle.Min</th>\n",
              "      <th>Label</th>\n",
              "      <th>L7Protocol</th>\n",
              "      <th>ProtocolName</th>\n",
              "    </tr>\n",
              "  </thead>\n",
              "  <tbody>\n",
              "    <tr>\n",
              "      <th>0</th>\n",
              "      <td>172.19.1.46-10.200.7.7-52422-3128-6</td>\n",
              "      <td>172.19.1.46</td>\n",
              "      <td>52422</td>\n",
              "      <td>10.200.7.7</td>\n",
              "      <td>3128</td>\n",
              "      <td>6</td>\n",
              "      <td>26/04/201711:11:17</td>\n",
              "      <td>45523</td>\n",
              "      <td>22</td>\n",
              "      <td>55</td>\n",
              "      <td>...</td>\n",
              "      <td>0.0</td>\n",
              "      <td>0</td>\n",
              "      <td>0</td>\n",
              "      <td>0.0</td>\n",
              "      <td>0.0</td>\n",
              "      <td>0</td>\n",
              "      <td>0</td>\n",
              "      <td>BENIGN</td>\n",
              "      <td>131</td>\n",
              "      <td>HTTP_PROXY</td>\n",
              "    </tr>\n",
              "    <tr>\n",
              "      <th>1</th>\n",
              "      <td>172.19.1.46-10.200.7.7-52422-3128-6</td>\n",
              "      <td>10.200.7.7</td>\n",
              "      <td>3128</td>\n",
              "      <td>172.19.1.46</td>\n",
              "      <td>52422</td>\n",
              "      <td>6</td>\n",
              "      <td>26/04/201711:11:17</td>\n",
              "      <td>1</td>\n",
              "      <td>2</td>\n",
              "      <td>0</td>\n",
              "      <td>...</td>\n",
              "      <td>0.0</td>\n",
              "      <td>0</td>\n",
              "      <td>0</td>\n",
              "      <td>0.0</td>\n",
              "      <td>0.0</td>\n",
              "      <td>0</td>\n",
              "      <td>0</td>\n",
              "      <td>BENIGN</td>\n",
              "      <td>131</td>\n",
              "      <td>HTTP_PROXY</td>\n",
              "    </tr>\n",
              "    <tr>\n",
              "      <th>2</th>\n",
              "      <td>10.200.7.217-50.31.185.39-38848-80-6</td>\n",
              "      <td>50.31.185.39</td>\n",
              "      <td>80</td>\n",
              "      <td>10.200.7.217</td>\n",
              "      <td>38848</td>\n",
              "      <td>6</td>\n",
              "      <td>26/04/201711:11:17</td>\n",
              "      <td>1</td>\n",
              "      <td>3</td>\n",
              "      <td>0</td>\n",
              "      <td>...</td>\n",
              "      <td>0.0</td>\n",
              "      <td>0</td>\n",
              "      <td>0</td>\n",
              "      <td>0.0</td>\n",
              "      <td>0.0</td>\n",
              "      <td>0</td>\n",
              "      <td>0</td>\n",
              "      <td>BENIGN</td>\n",
              "      <td>7</td>\n",
              "      <td>HTTP</td>\n",
              "    </tr>\n",
              "    <tr>\n",
              "      <th>3</th>\n",
              "      <td>10.200.7.217-50.31.185.39-38848-80-6</td>\n",
              "      <td>50.31.185.39</td>\n",
              "      <td>80</td>\n",
              "      <td>10.200.7.217</td>\n",
              "      <td>38848</td>\n",
              "      <td>6</td>\n",
              "      <td>26/04/201711:11:17</td>\n",
              "      <td>217</td>\n",
              "      <td>1</td>\n",
              "      <td>3</td>\n",
              "      <td>...</td>\n",
              "      <td>0.0</td>\n",
              "      <td>0</td>\n",
              "      <td>0</td>\n",
              "      <td>0.0</td>\n",
              "      <td>0.0</td>\n",
              "      <td>0</td>\n",
              "      <td>0</td>\n",
              "      <td>BENIGN</td>\n",
              "      <td>7</td>\n",
              "      <td>HTTP</td>\n",
              "    </tr>\n",
              "    <tr>\n",
              "      <th>4</th>\n",
              "      <td>192.168.72.43-10.200.7.7-55961-3128-6</td>\n",
              "      <td>192.168.72.43</td>\n",
              "      <td>55961</td>\n",
              "      <td>10.200.7.7</td>\n",
              "      <td>3128</td>\n",
              "      <td>6</td>\n",
              "      <td>26/04/201711:11:17</td>\n",
              "      <td>78068</td>\n",
              "      <td>5</td>\n",
              "      <td>0</td>\n",
              "      <td>...</td>\n",
              "      <td>0.0</td>\n",
              "      <td>0</td>\n",
              "      <td>0</td>\n",
              "      <td>0.0</td>\n",
              "      <td>0.0</td>\n",
              "      <td>0</td>\n",
              "      <td>0</td>\n",
              "      <td>BENIGN</td>\n",
              "      <td>131</td>\n",
              "      <td>HTTP_PROXY</td>\n",
              "    </tr>\n",
              "    <tr>\n",
              "      <th>...</th>\n",
              "      <td>...</td>\n",
              "      <td>...</td>\n",
              "      <td>...</td>\n",
              "      <td>...</td>\n",
              "      <td>...</td>\n",
              "      <td>...</td>\n",
              "      <td>...</td>\n",
              "      <td>...</td>\n",
              "      <td>...</td>\n",
              "      <td>...</td>\n",
              "      <td>...</td>\n",
              "      <td>...</td>\n",
              "      <td>...</td>\n",
              "      <td>...</td>\n",
              "      <td>...</td>\n",
              "      <td>...</td>\n",
              "      <td>...</td>\n",
              "      <td>...</td>\n",
              "      <td>...</td>\n",
              "      <td>...</td>\n",
              "      <td>...</td>\n",
              "    </tr>\n",
              "    <tr>\n",
              "      <th>6176</th>\n",
              "      <td>192.168.180.37-10.200.7.9-2187-3128-6</td>\n",
              "      <td>10.200.7.9</td>\n",
              "      <td>3128</td>\n",
              "      <td>192.168.180.37</td>\n",
              "      <td>2187</td>\n",
              "      <td>6</td>\n",
              "      <td>26/04/201711:11:51</td>\n",
              "      <td>198</td>\n",
              "      <td>5</td>\n",
              "      <td>0</td>\n",
              "      <td>...</td>\n",
              "      <td>0.0</td>\n",
              "      <td>0</td>\n",
              "      <td>0</td>\n",
              "      <td>0.0</td>\n",
              "      <td>0.0</td>\n",
              "      <td>0</td>\n",
              "      <td>0</td>\n",
              "      <td>BENIGN</td>\n",
              "      <td>7</td>\n",
              "      <td>HTTP</td>\n",
              "    </tr>\n",
              "    <tr>\n",
              "      <th>6177</th>\n",
              "      <td>207.244.80.182-10.200.7.199-443-47219-6</td>\n",
              "      <td>10.200.7.199</td>\n",
              "      <td>47219</td>\n",
              "      <td>207.244.80.182</td>\n",
              "      <td>443</td>\n",
              "      <td>6</td>\n",
              "      <td>26/04/201711:11:50</td>\n",
              "      <td>294435</td>\n",
              "      <td>18</td>\n",
              "      <td>7</td>\n",
              "      <td>...</td>\n",
              "      <td>0.0</td>\n",
              "      <td>0</td>\n",
              "      <td>0</td>\n",
              "      <td>0.0</td>\n",
              "      <td>0.0</td>\n",
              "      <td>0</td>\n",
              "      <td>0</td>\n",
              "      <td>BENIGN</td>\n",
              "      <td>91</td>\n",
              "      <td>SSL</td>\n",
              "    </tr>\n",
              "    <tr>\n",
              "      <th>6178</th>\n",
              "      <td>192.168.180.37-10.200.7.9-2187-3128-6</td>\n",
              "      <td>192.168.180.37</td>\n",
              "      <td>2187</td>\n",
              "      <td>10.200.7.9</td>\n",
              "      <td>3128</td>\n",
              "      <td>6</td>\n",
              "      <td>26/04/201711:11:51</td>\n",
              "      <td>14</td>\n",
              "      <td>1</td>\n",
              "      <td>1</td>\n",
              "      <td>...</td>\n",
              "      <td>0.0</td>\n",
              "      <td>0</td>\n",
              "      <td>0</td>\n",
              "      <td>0.0</td>\n",
              "      <td>0.0</td>\n",
              "      <td>0</td>\n",
              "      <td>0</td>\n",
              "      <td>BENIGN</td>\n",
              "      <td>130</td>\n",
              "      <td>HTTP_CONNECT</td>\n",
              "    </tr>\n",
              "    <tr>\n",
              "      <th>6179</th>\n",
              "      <td>192.168.180.37-10.200.7.9-2187-3128-6</td>\n",
              "      <td>10.200.7.9</td>\n",
              "      <td>3128</td>\n",
              "      <td>192.168.180.37</td>\n",
              "      <td>2187</td>\n",
              "      <td>6</td>\n",
              "      <td>26/04/201711:11:51</td>\n",
              "      <td>258</td>\n",
              "      <td>2</td>\n",
              "      <td>0</td>\n",
              "      <td>...</td>\n",
              "      <td>0.0</td>\n",
              "      <td>0</td>\n",
              "      <td>0</td>\n",
              "      <td>0.0</td>\n",
              "      <td>0.0</td>\n",
              "      <td>0</td>\n",
              "      <td>0</td>\n",
              "      <td>BENIGN</td>\n",
              "      <td>7</td>\n",
              "      <td>HTTP</td>\n",
              "    </tr>\n",
              "    <tr>\n",
              "      <th>6180</th>\n",
              "      <td>172.19.1.46-10.200.7.7-52493-3128-6</td>\n",
              "      <td>172.19.1.46</td>\n",
              "      <td>52493</td>\n",
              "      <td>10.200.7.7</td>\n",
              "      <td>3128</td>\n",
              "      <td>6</td>\n",
              "      <td>26/04/201711:11:50</td>\n",
              "      <td>338835</td>\n",
              "      <td>8</td>\n",
              "      <td>31</td>\n",
              "      <td>...</td>\n",
              "      <td>0.0</td>\n",
              "      <td>0</td>\n",
              "      <td>0</td>\n",
              "      <td>0.0</td>\n",
              "      <td>0.0</td>\n",
              "      <td>0</td>\n",
              "      <td>0</td>\n",
              "      <td>BENIGN</td>\n",
              "      <td>147</td>\n",
              "      <td>WINDOWS_UPDATE</td>\n",
              "    </tr>\n",
              "  </tbody>\n",
              "</table>\n",
              "<p>6181 rows × 87 columns</p>\n",
              "</div>"
            ],
            "text/plain": [
              "                                      Flow.ID       Source.IP  Source.Port  \\\n",
              "0         172.19.1.46-10.200.7.7-52422-3128-6     172.19.1.46        52422   \n",
              "1         172.19.1.46-10.200.7.7-52422-3128-6      10.200.7.7         3128   \n",
              "2        10.200.7.217-50.31.185.39-38848-80-6    50.31.185.39           80   \n",
              "3        10.200.7.217-50.31.185.39-38848-80-6    50.31.185.39           80   \n",
              "4       192.168.72.43-10.200.7.7-55961-3128-6   192.168.72.43        55961   \n",
              "...                                       ...             ...          ...   \n",
              "6176    192.168.180.37-10.200.7.9-2187-3128-6      10.200.7.9         3128   \n",
              "6177  207.244.80.182-10.200.7.199-443-47219-6    10.200.7.199        47219   \n",
              "6178    192.168.180.37-10.200.7.9-2187-3128-6  192.168.180.37         2187   \n",
              "6179    192.168.180.37-10.200.7.9-2187-3128-6      10.200.7.9         3128   \n",
              "6180      172.19.1.46-10.200.7.7-52493-3128-6     172.19.1.46        52493   \n",
              "\n",
              "      Destination.IP  Destination.Port  Protocol           Timestamp  \\\n",
              "0         10.200.7.7              3128         6  26/04/201711:11:17   \n",
              "1        172.19.1.46             52422         6  26/04/201711:11:17   \n",
              "2       10.200.7.217             38848         6  26/04/201711:11:17   \n",
              "3       10.200.7.217             38848         6  26/04/201711:11:17   \n",
              "4         10.200.7.7              3128         6  26/04/201711:11:17   \n",
              "...              ...               ...       ...                 ...   \n",
              "6176  192.168.180.37              2187         6  26/04/201711:11:51   \n",
              "6177  207.244.80.182               443         6  26/04/201711:11:50   \n",
              "6178      10.200.7.9              3128         6  26/04/201711:11:51   \n",
              "6179  192.168.180.37              2187         6  26/04/201711:11:51   \n",
              "6180      10.200.7.7              3128         6  26/04/201711:11:50   \n",
              "\n",
              "      Flow.Duration  Total.Fwd.Packets  Total.Backward.Packets  ...  \\\n",
              "0             45523                 22                      55  ...   \n",
              "1                 1                  2                       0  ...   \n",
              "2                 1                  3                       0  ...   \n",
              "3               217                  1                       3  ...   \n",
              "4             78068                  5                       0  ...   \n",
              "...             ...                ...                     ...  ...   \n",
              "6176            198                  5                       0  ...   \n",
              "6177         294435                 18                       7  ...   \n",
              "6178             14                  1                       1  ...   \n",
              "6179            258                  2                       0  ...   \n",
              "6180         338835                  8                      31  ...   \n",
              "\n",
              "      Active.Std  Active.Max  Active.Min  Idle.Mean  Idle.Std  Idle.Max  \\\n",
              "0            0.0           0           0        0.0       0.0         0   \n",
              "1            0.0           0           0        0.0       0.0         0   \n",
              "2            0.0           0           0        0.0       0.0         0   \n",
              "3            0.0           0           0        0.0       0.0         0   \n",
              "4            0.0           0           0        0.0       0.0         0   \n",
              "...          ...         ...         ...        ...       ...       ...   \n",
              "6176         0.0           0           0        0.0       0.0         0   \n",
              "6177         0.0           0           0        0.0       0.0         0   \n",
              "6178         0.0           0           0        0.0       0.0         0   \n",
              "6179         0.0           0           0        0.0       0.0         0   \n",
              "6180         0.0           0           0        0.0       0.0         0   \n",
              "\n",
              "      Idle.Min   Label  L7Protocol    ProtocolName  \n",
              "0            0  BENIGN         131      HTTP_PROXY  \n",
              "1            0  BENIGN         131      HTTP_PROXY  \n",
              "2            0  BENIGN           7            HTTP  \n",
              "3            0  BENIGN           7            HTTP  \n",
              "4            0  BENIGN         131      HTTP_PROXY  \n",
              "...        ...     ...         ...             ...  \n",
              "6176         0  BENIGN           7            HTTP  \n",
              "6177         0  BENIGN          91             SSL  \n",
              "6178         0  BENIGN         130    HTTP_CONNECT  \n",
              "6179         0  BENIGN           7            HTTP  \n",
              "6180         0  BENIGN         147  WINDOWS_UPDATE  \n",
              "\n",
              "[6181 rows x 87 columns]"
            ]
          },
          "execution_count": 5,
          "metadata": {},
          "output_type": "execute_result"
        }
      ],
      "source": [
        "import pandas as pd\n",
        "data = pd.read_csv(r\"C:\\Users\\LENOVO\\Desktop\\big data 1\\big data 1\\big data\\modified.csv\")\n",
        "data"
      ]
    },
    {
      "cell_type": "code",
      "execution_count": 6,
      "metadata": {
        "colab": {
          "base_uri": "https://localhost:8080/",
          "height": 485
        },
        "id": "xfY5wxKYteza",
        "outputId": "d35757e3-1a78-417b-d01d-08fc1b207da4"
      },
      "outputs": [
        {
          "name": "stdout",
          "output_type": "stream",
          "text": [
            "Number of Unique Application Names:  21\n"
          ]
        },
        {
          "data": {
            "text/plain": [
              "Text(0, 0.5, 'Frequency')"
            ]
          },
          "execution_count": 6,
          "metadata": {},
          "output_type": "execute_result"
        },
        {
          "data": {
            "image/png": "[encoded data removed]",
            "text/plain": [
              "<Figure size 640x480 with 1 Axes>"
            ]
          },
          "metadata": {},
          "output_type": "display_data"
        }
      ],
      "source": [
        "import matplotlib.pyplot as plt\n",
        "freq_protocol = data['ProtocolName'].value_counts()\n",
        "# sns.histplot(freq_protocol.values())\n",
        "application_name = []\n",
        "frequency_count = []\n",
        "for key, value in freq_protocol.items():\n",
        "    application_name.append(key)\n",
        "    frequency_count.append(value)\n",
        "\n",
        "print(\"Number of Unique Application Names: \", len(freq_protocol))\n",
        "\n",
        "# graph of top 5 application names\n",
        "top_values = 5\n",
        "plt.bar(application_name[:top_values], frequency_count[:top_values])\n",
        "plt.xlabel(\"Application Name\")\n",
        "plt.ylabel(\"Frequency\")"
      ]
    },
    {
      "cell_type": "code",
      "execution_count": 7,
      "metadata": {
        "colab": {
          "base_uri": "https://localhost:8080/"
        },
        "id": "RfqcsuFztloB",
        "outputId": "c690663a-b7a0-4dc2-9bb9-c477a2fbe916"
      },
      "outputs": [
        {
          "name": "stdout",
          "output_type": "stream",
          "text": [
            "[]\n"
          ]
        }
      ],
      "source": [
        "requiredProtocolName = []\n",
        "for key, value in freq_protocol.items():\n",
        "    if (value >= 10000):\n",
        "        requiredProtocolName.append(key)\n",
        "\n",
        "print(requiredProtocolName)"
      ]
    },
    {
      "cell_type": "code",
      "execution_count": 8,
      "metadata": {
        "colab": {
          "base_uri": "https://localhost:8080/"
        },
        "id": "mrIxouWNt8DB",
        "outputId": "49a112f5-fffe-4eeb-f6e8-3c828417d8ef"
      },
      "outputs": [
        {
          "name": "stdout",
          "output_type": "stream",
          "text": [
            "{8: 'HTTP_PROXY', 6: 'HTTP', 7: 'HTTP_CONNECT', 14: 'SSL', 5: 'GOOGLE', 20: 'YOUTUBE', 3: 'FACEBOOK', 1: 'CONTENT_FLASH', 2: 'DROPBOX', 18: 'WINDOWS_UPDATE', 0: 'AMAZON', 9: 'MICROSOFT', 16: 'TOR', 4: 'GMAIL', 19: 'YAHOO', 10: 'MSN', 15: 'SSL_NO_CERT', 13: 'SKYPE', 12: 'MS_ONE_DRIVE', 11: 'MSSQL', 17: 'TWITTER'}\n"
          ]
        }
      ],
      "source": [
        "import seaborn as sns\n",
        "import matplotlib.pyplot as plt\n",
        "from sklearn.preprocessing import LabelEncoder\n",
        "from sklearn.metrics import f1_score\n",
        "encoder = LabelEncoder().fit(data['ProtocolName'])\n",
        "data['ProtocolName'] = encoder.transform(data['ProtocolName'])\n",
        "values = encoder.inverse_transform(data['ProtocolName'])\n",
        "target_column = data['ProtocolName']\n",
        "\n",
        "# mapping the encoded value\n",
        "encoded_target_column = {}\n",
        "for i in range(len(data['ProtocolName'])):\n",
        "    encoded_target_column[data['ProtocolName'][i]] = values[i]\n",
        "\n",
        "print(encoded_target_column)"
      ]
    },
    {
      "cell_type": "code",
      "execution_count": 9,
      "metadata": {
        "colab": {
          "base_uri": "https://localhost:8080/"
        },
        "id": "v9Y8YRAvuAZ9",
        "outputId": "f7cd652a-4db5-42b6-ef1c-a5be8ec08138"
      },
      "outputs": [
        {
          "data": {
            "text/plain": [
              "Index(['Flow.ID', 'Source.IP', 'Source.Port', 'Destination.IP',\n",
              "       'Destination.Port', 'Protocol', 'Timestamp', 'Flow.Duration',\n",
              "       'Total.Fwd.Packets', 'Total.Backward.Packets',\n",
              "       'Total.Length.of.Fwd.Packets', 'Total.Length.of.Bwd.Packets',\n",
              "       'Fwd.Packet.Length.Max', 'Fwd.Packet.Length.Min',\n",
              "       'Fwd.Packet.Length.Mean', 'Fwd.Packet.Length.Std',\n",
              "       'Bwd.Packet.Length.Max', 'Bwd.Packet.Length.Min',\n",
              "       'Bwd.Packet.Length.Mean', 'Bwd.Packet.Length.Std', 'Flow.Bytes.s',\n",
              "       'Flow.Packets.s', 'Flow.IAT.Mean', 'Flow.IAT.Std', 'Flow.IAT.Max',\n",
              "       'Flow.IAT.Min', 'Fwd.IAT.Total', 'Fwd.IAT.Mean', 'Fwd.IAT.Std',\n",
              "       'Fwd.IAT.Max', 'Fwd.IAT.Min', 'Bwd.IAT.Total', 'Bwd.IAT.Mean',\n",
              "       'Bwd.IAT.Std', 'Bwd.IAT.Max', 'Bwd.IAT.Min', 'Fwd.PSH.Flags',\n",
              "       'Bwd.PSH.Flags', 'Fwd.URG.Flags', 'Bwd.URG.Flags', 'Fwd.Header.Length',\n",
              "       'Bwd.Header.Length', 'Fwd.Packets.s', 'Bwd.Packets.s',\n",
              "       'Min.Packet.Length', 'Max.Packet.Length', 'Packet.Length.Mean',\n",
              "       'Packet.Length.Std', 'Packet.Length.Variance', 'FIN.Flag.Count',\n",
              "       'SYN.Flag.Count', 'RST.Flag.Count', 'PSH.Flag.Count', 'ACK.Flag.Count',\n",
              "       'URG.Flag.Count', 'CWE.Flag.Count', 'ECE.Flag.Count', 'Down.Up.Ratio',\n",
              "       'Average.Packet.Size', 'Avg.Fwd.Segment.Size', 'Avg.Bwd.Segment.Size',\n",
              "       'Fwd.Header.Length.1', 'Fwd.Avg.Bytes.Bulk', 'Fwd.Avg.Packets.Bulk',\n",
              "       'Fwd.Avg.Bulk.Rate', 'Bwd.Avg.Bytes.Bulk', 'Bwd.Avg.Packets.Bulk',\n",
              "       'Bwd.Avg.Bulk.Rate', 'Subflow.Fwd.Packets', 'Subflow.Fwd.Bytes',\n",
              "       'Subflow.Bwd.Packets', 'Subflow.Bwd.Bytes', 'Init_Win_bytes_forward',\n",
              "       'Init_Win_bytes_backward', 'act_data_pkt_fwd', 'min_seg_size_forward',\n",
              "       'Active.Mean', 'Active.Std', 'Active.Max', 'Active.Min', 'Idle.Mean',\n",
              "       'Idle.Std', 'Idle.Max', 'Idle.Min', 'Label', 'L7Protocol',\n",
              "       'ProtocolName'],\n",
              "      dtype='object')"
            ]
          },
          "execution_count": 9,
          "metadata": {},
          "output_type": "execute_result"
        }
      ],
      "source": [
        "data.columns"
      ]
    },
    {
      "cell_type": "code",
      "execution_count": 10,
      "metadata": {
        "id": "wxXH60W3uC_H"
      },
      "outputs": [],
      "source": [
        "from sklearn.preprocessing import StandardScaler\n",
        "sc = StandardScaler()\n",
        "dataset = data.drop(['Flow.ID','Source.IP','Label', 'Timestamp','Destination.IP', 'Source.Port', 'Destination.Port', 'Protocol'], axis=1)\n",
        "\n",
        "x_dataset = dataset.drop(['ProtocolName'], axis = 1)\n",
        "y_dataset = dataset['ProtocolName']\n",
        "\n",
        "# normal dataset\n",
        "X_train, X_test, y_train, y_test = train_test_split(x_dataset, y_dataset, test_size=0.2)\n",
        "X_train = sc.fit_transform(X_train)\n",
        "X_test = sc.transform(X_test)"
      ]
    },
    {
      "cell_type": "code",
      "execution_count": 11,
      "metadata": {
        "id": "jfAYetTruFh_"
      },
      "outputs": [],
      "source": [
        "final_result = {'Random Forest': {'Original': 0}, 'Decision Tree': {'Original': 0},'KNN':{'Original':0},'Logistic Regression':{'Orginal':0},'MLP':{'Orginal':0}}\n",
        "f1Scores ={'Random Forest': {'Original': 0}, 'Decision Tree': {'Original': 0},'KNN':{'Original':0},'Logistic Regression':{'Orginal':0},'MLP':{'Orginal':0}}\n",
        "numberOfFeatures = {'Random Forest': {'Original': 0}, 'Decision Tree': {'Original': 0},'KNN':{'Original':0},'Logistic Regression':{'Orginal':0},'MLP':{'Orginal':0}}"
      ]
    },
    {
      "cell_type": "code",
      "execution_count": 12,
      "metadata": {
        "id": "LvovELmYuHeq"
      },
      "outputs": [],
      "source": [
        "from sklearn.model_selection import train_test_split\n",
        "from sklearn.ensemble import RandomForestClassifier\n",
        "from sklearn.preprocessing import StandardScaler\n",
        "from sklearn.linear_model import LogisticRegression\n",
        "from sklearn.metrics import confusion_matrix, accuracy_score, ConfusionMatrixDisplay, classification_report\n",
        "from sklearn.decomposition import PCA\n",
        "from sklearn.model_selection import KFold\n",
        "from sklearn.naive_bayes import MultinomialNB\n",
        "from sklearn.tree import DecisionTreeClassifier\n",
        "from sklearn.metrics import roc_curve, roc_auc_score\n",
        "\n",
        "sc = StandardScaler()"
      ]
    },
    {
      "cell_type": "code",
      "execution_count": 13,
      "metadata": {
        "id": "FO1qCKbkuJPw"
      },
      "outputs": [],
      "source": [
        "def random_forest_classifier(feature_train, target_train):\n",
        "    randomForest = RandomForestClassifier(n_estimators=200)\n",
        "    randomForest.fit(feature_train, target_train)\n",
        "\n",
        "    return randomForest\n",
        "randomForest = random_forest_classifier(X_train, y_train)\n",
        "predictions = randomForest.predict(X_test)"
      ]
    },
    {
      "cell_type": "code",
      "execution_count": 45,
      "metadata": {
        "colab": {
          "base_uri": "https://localhost:8080/"
        },
        "id": "ZyHKFhXiuK_h",
        "outputId": "af351979-9f5f-42f7-c8fc-1689cedde36e"
      },
      "outputs": [
        {
          "name": "stdout",
          "output_type": "stream",
          "text": [
            "Accuracy in Decision Tree on Original Dataset: 93.86%\n",
            "Precision with Decision Tree on Original Dataset: 34.01%\n",
            "Recall with Decision Tree on Original Dataset: 38.89%\n",
            "F1 Score with Decision Tree on Original Dataset: 35.94%\n"
          ]
        }
      ],
      "source": [
        "from sklearn.tree import DecisionTreeClassifier\n",
        "from sklearn.metrics import precision_score, recall_score, f1_score\n",
        "\n",
        "# Train the Decision Tree model\n",
        "decisionTreeNormal = DecisionTreeClassifier(criterion='entropy', max_depth=3, random_state=42)\n",
        "decisionTreeNormal.fit(X_train, y_train)\n",
        "\n",
        "# Predict on the test set\n",
        "target_pred = decisionTreeNormal.predict(X_test)\n",
        "\n",
        "# Calculate accuracy\n",
        "accuracy = decisionTreeNormal.score(X_test, y_test)\n",
        "accuracy_percentage = accuracy * 100  # Convert to percentage\n",
        "print(f\"Accuracy in Decision Tree on Original Dataset: {accuracy_percentage:.2f}%\")\n",
        "\n",
        "# Store results\n",
        "final_result['Decision Tree']['Original'] = accuracy\n",
        "f1Scores['Decision Tree']['Original'] = f1_score(y_test, target_pred, average='micro')\n",
        "numberOfFeatures['Decision Tree']['Original'] = X_train.shape[1]\n",
        "\n",
        "# Compute precision, recall, and F1 score averaged across all classes\n",
        "precision = precision_score(y_test, target_pred, average='macro', zero_division=0)\n",
        "recall = recall_score(y_test, target_pred, average='macro', zero_division=0)\n",
        "f1 = f1_score(y_test, target_pred, average='macro', zero_division=0)\n",
        "\n",
        "# Print all metrics as percentages\n",
        "print(f'Precision with Decision Tree on Original Dataset: {precision * 100:.2f}%')\n",
        "print(f'Recall with Decision Tree on Original Dataset: {recall * 100:.2f}%')\n",
        "print(f'F1 Score with Decision Tree on Original Dataset: {f1 * 100:.2f}%')\n"
      ]
    },
    {
      "cell_type": "code",
      "execution_count": 46,
      "metadata": {
        "colab": {
          "base_uri": "https://localhost:8080/"
        },
        "id": "EvJ-RhsGuNLe",
        "outputId": "352a3b84-d64f-491f-855d-d67a0abead66"
      },
      "outputs": [
        {
          "name": "stdout",
          "output_type": "stream",
          "text": [
            "Accuracy with Random Forest on Original Dataset: 95.07%\n",
            "Precision with Random Forest on Original Dataset: 80.26%\n",
            "Recall with Random Forest on Original Dataset: 60.52%\n",
            "F1 Score with Random Forest on Original Dataset: 64.92%\n"
          ]
        }
      ],
      "source": [
        "from sklearn.metrics import precision_score, recall_score, f1_score\n",
        "\n",
        "# Train the Random Forest model\n",
        "randomForest = random_forest_classifier(X_train, y_train)\n",
        "predictions = randomForest.predict(X_test)\n",
        "\n",
        "# Calculate accuracy\n",
        "accuracy = randomForest.score(X_test, y_test)\n",
        "accuracy_percentage = accuracy * 100  # Convert to percentage\n",
        "print(f'Accuracy with Random Forest on Original Dataset: {accuracy_percentage:.2f}%')\n",
        "\n",
        "# Store results\n",
        "final_result['Random Forest']['Original'] = accuracy\n",
        "f1Scores['Random Forest']['Original'] = f1_score(y_test, predictions, average='micro')\n",
        "numberOfFeatures['Random Forest']['Original'] = X_train.shape[1]\n",
        "\n",
        "# Compute precision, recall, and F1 score averaged across all classes\n",
        "precision = precision_score(y_test, predictions, average='macro', zero_division=0)\n",
        "recall = recall_score(y_test, predictions, average='macro', zero_division=0)\n",
        "f1 = f1_score(y_test, predictions, average='macro', zero_division=0)\n",
        "\n",
        "# Print all metrics as percentages\n",
        "print(f'Precision with Random Forest on Original Dataset: {precision * 100:.2f}%')\n",
        "print(f'Recall with Random Forest on Original Dataset: {recall * 100:.2f}%')\n",
        "print(f'F1 Score with Random Forest on Original Dataset: {f1 * 100:.2f}%')\n"
      ]
    },
    {
      "cell_type": "code",
      "execution_count": 37,
      "metadata": {
        "colab": {
          "base_uri": "https://localhost:8080/",
          "height": 106
        },
        "id": "YoLVOUcyuSq5",
        "outputId": "5d6d2d36-d1d9-424f-9855-3769de18eb46"
      },
      "outputs": [
        {
          "name": "stdout",
          "output_type": "stream",
          "text": [
            "Number of Features for each model and algorithm\n"
          ]
        },
        {
          "data": {
            "text/html": [
              "<div>\n",
              "<style scoped>\n",
              "    .dataframe tbody tr th:only-of-type {\n",
              "        vertical-align: middle;\n",
              "    }\n",
              "\n",
              "    .dataframe tbody tr th {\n",
              "        vertical-align: top;\n",
              "    }\n",
              "\n",
              "    .dataframe thead th {\n",
              "        text-align: right;\n",
              "    }\n",
              "</style>\n",
              "<table border=\"1\" class=\"dataframe\">\n",
              "  <thead>\n",
              "    <tr style=\"text-align: right;\">\n",
              "      <th></th>\n",
              "      <th>Random Forest</th>\n",
              "      <th>Decision Tree</th>\n",
              "      <th>KNN</th>\n",
              "      <th>Logistic Regression</th>\n",
              "      <th>MLP</th>\n",
              "    </tr>\n",
              "  </thead>\n",
              "  <tbody>\n",
              "    <tr>\n",
              "      <th>Original</th>\n",
              "      <td>78</td>\n",
              "      <td>78</td>\n",
              "      <td>78</td>\n",
              "      <td>78</td>\n",
              "      <td>78</td>\n",
              "    </tr>\n",
              "  </tbody>\n",
              "</table>\n",
              "</div>"
            ],
            "text/plain": [
              "          Random Forest  Decision Tree  KNN  Logistic Regression  MLP\n",
              "Original             78             78   78                   78   78"
            ]
          },
          "execution_count": 37,
          "metadata": {},
          "output_type": "execute_result"
        }
      ],
      "source": [
        "features_df = pd.DataFrame(numberOfFeatures)\n",
        "print(\"Number of Features for each model and algorithm\")\n",
        "features_df"
      ]
    },
    {
      "cell_type": "code",
      "execution_count": 44,
      "metadata": {
        "colab": {
          "base_uri": "https://localhost:8080/"
        },
        "id": "C8I8NEysUpH7",
        "outputId": "efd94c82-44ac-407a-edcd-08f97ce4e7df"
      },
      "outputs": [
        {
          "name": "stdout",
          "output_type": "stream",
          "text": [
            "Accuracy with KNN on Original Dataset: 79.71%\n",
            "Precision with KNN on Original Dataset: 48.55%\n",
            "Recall with KNN on Original Dataset: 43.41%\n",
            "F1 Score with KNN on Original Dataset: 45.02%\n"
          ]
        },
        {
          "name": "stderr",
          "output_type": "stream",
          "text": [
            "C:\\Users\\LENOVO\\AppData\\Roaming\\Python\\Python312\\site-packages\\sklearn\\metrics\\_classification.py:1517: UndefinedMetricWarning: Precision is ill-defined and being set to 0.0 in labels with no predicted samples. Use `zero_division` parameter to control this behavior.\n",
            "  _warn_prf(average, modifier, f\"{metric.capitalize()} is\", len(result))\n"
          ]
        }
      ],
      "source": [
        "from sklearn.neighbors import KNeighborsClassifier\n",
        "from sklearn.metrics import precision_score, recall_score, f1_score\n",
        "\n",
        "# Assuming X_train, y_train, X_test, y_test are already defined\n",
        "\n",
        "# Create KNN classifier\n",
        "knn_classifier = KNeighborsClassifier(n_neighbors=5)  # Adjust 'k' as needed\n",
        "\n",
        "# Train the classifier\n",
        "knn_classifier.fit(X_train, y_train)\n",
        "\n",
        "# Make predictions\n",
        "knn_predictions = knn_classifier.predict(X_test)\n",
        "\n",
        "# Evaluate the model\n",
        "accuracy_knn = knn_classifier.score(X_test, y_test)\n",
        "accuracy_percentage = accuracy_knn * 100  # Convert to percentage\n",
        "print(f'Accuracy with KNN on Original Dataset: {accuracy_percentage:.2f}%')\n",
        "\n",
        "# Update results dictionary\n",
        "final_result['KNN']['Original'] = accuracy_knn\n",
        "f1Scores['KNN']['Original'] = f1_score(y_test, knn_predictions, average='macro')\n",
        "numberOfFeatures['KNN']['Original'] = X_train.shape[1]\n",
        "\n",
        "# Calculate precision, recall, and F1 score\n",
        "precision_knn = precision_score(y_test, knn_predictions, average='macro')\n",
        "recall_knn = recall_score(y_test, knn_predictions, average='macro')\n",
        "f1_knn = f1_score(y_test, knn_predictions, average='macro')\n",
        "\n",
        "# Print all values in percentage\n",
        "print(f'Precision with KNN on Original Dataset: {precision_knn * 100:.2f}%')\n",
        "print(f'Recall with KNN on Original Dataset: {recall_knn * 100:.2f}%')\n",
        "print(f'F1 Score with KNN on Original Dataset: {f1_knn * 100:.2f}%')\n"
      ]
    },
    {
      "cell_type": "code",
      "execution_count": 52,
      "metadata": {
        "colab": {
          "base_uri": "https://localhost:8080/"
        },
        "id": "VEPyi_GcVgV6",
        "outputId": "7536aded-bd10-4cdf-ec7a-4e088ac1d9c1"
      },
      "outputs": [
        {
          "name": "stdout",
          "output_type": "stream",
          "text": [
            "Accuracy with Logistic Regression on Original Dataset: 83.51%\n",
            "Precision with Logistic Regression on Original Dataset: 43.81%\n",
            "Recall with Logistic Regression on Original Dataset: 39.90%\n",
            "F1 Score with Logistic Regression on Original Dataset: 40.19%\n"
          ]
        },
        {
          "name": "stderr",
          "output_type": "stream",
          "text": [
            "C:\\Users\\LENOVO\\AppData\\Roaming\\Python\\Python312\\site-packages\\sklearn\\linear_model\\_logistic.py:469: ConvergenceWarning: lbfgs failed to converge (status=1):\n",
            "STOP: TOTAL NO. of ITERATIONS REACHED LIMIT.\n",
            "\n",
            "Increase the number of iterations (max_iter) or scale the data as shown in:\n",
            "    https://scikit-learn.org/stable/modules/preprocessing.html\n",
            "Please also refer to the documentation for alternative solver options:\n",
            "    https://scikit-learn.org/stable/modules/linear_model.html#logistic-regression\n",
            "  n_iter_i = _check_optimize_result(\n"
          ]
        }
      ],
      "source": [
        "from sklearn.linear_model import LogisticRegression\n",
        "from sklearn.metrics import precision_score, recall_score, f1_score\n",
        "\n",
        "# Assuming X_train, y_train, X_test, y_test are already defined\n",
        "\n",
        "# Create Logistic Regression classifier\n",
        "logistic_regression_classifier = LogisticRegression()\n",
        "\n",
        "# Train the classifier\n",
        "logistic_regression_classifier.fit(X_train, y_train)\n",
        "\n",
        "# Make predictions\n",
        "logistic_regression_predictions = logistic_regression_classifier.predict(X_test)\n",
        "\n",
        "# Evaluate the model\n",
        "accuracy = logistic_regression_classifier.score(X_test, y_test)\n",
        "print(f'Accuracy with Logistic Regression on Original Dataset: {accuracy * 100:.2f}%')\n",
        "\n",
        "# Update results dictionary\n",
        "final_result['Logistic Regression']['Original'] = accuracy\n",
        "f1Scores['Logistic Regression']['Original'] = f1_score(y_test, logistic_regression_predictions, average='macro')\n",
        "numberOfFeatures['Logistic Regression']['Original'] = X_train.shape[1]\n",
        "\n",
        "# Calculate precision, recall, and F1 score\n",
        "precision_lr = precision_score(y_test, logistic_regression_predictions, average='macro', zero_division=0)\n",
        "recall_lr = recall_score(y_test, logistic_regression_predictions, average='macro', zero_division=0)\n",
        "f1_lr = f1_score(y_test, logistic_regression_predictions, average='macro', zero_division=0)\n",
        "\n",
        "# Output all metrics in percentage\n",
        "print(f'Precision with Logistic Regression on Original Dataset: {precision_lr * 100:.2f}%')\n",
        "print(f'Recall with Logistic Regression on Original Dataset: {recall_lr * 100:.2f}%')\n",
        "print(f'F1 Score with Logistic Regression on Original Dataset: {f1_lr * 100:.2f}%')\n"
      ]
    },
    {
      "cell_type": "code",
      "execution_count": 53,
      "metadata": {
        "colab": {
          "base_uri": "https://localhost:8080/"
        },
        "id": "K_8NaaCTWgyr",
        "outputId": "6ad9a9b1-1b4f-4894-8acb-fb4c65c32aca"
      },
      "outputs": [
        {
          "name": "stdout",
          "output_type": "stream",
          "text": [
            "Accuracy with MLP on Original Dataset: 92.72%\n",
            "Precision with MLP on Original Dataset: 78.75%\n",
            "Recall with MLP on Original Dataset: 64.47%\n",
            "F1 Score with MLP on Original Dataset: 68.05%\n"
          ]
        }
      ],
      "source": [
        "from sklearn.neural_network import MLPClassifier\n",
        "from sklearn.metrics import precision_score, recall_score, f1_score\n",
        "\n",
        "# Assuming X_train, y_train, X_test, y_test are already defined\n",
        "\n",
        "# Create MLP classifier\n",
        "mlp_classifier = MLPClassifier(hidden_layer_sizes=(100, 50), max_iter=500)  # You can adjust hidden_layer_sizes and max_iter as needed\n",
        "\n",
        "# Train the classifier\n",
        "mlp_classifier.fit(X_train, y_train)\n",
        "\n",
        "# Make predictions\n",
        "mlp_predictions = mlp_classifier.predict(X_test)\n",
        "\n",
        "# Evaluate the model\n",
        "accuracy = mlp_classifier.score(X_test, y_test)\n",
        "print(f'Accuracy with MLP on Original Dataset: {accuracy * 100:.2f}%')\n",
        "\n",
        "# Update results dictionary\n",
        "final_result['MLP']['Original'] = accuracy\n",
        "f1Scores['MLP']['Original'] = f1_score(y_test, mlp_predictions, average='macro')\n",
        "numberOfFeatures['MLP']['Original'] = X_train.shape[1]\n",
        "\n",
        "# Calculate precision, recall, and F1 score\n",
        "precision_mlp = precision_score(y_test, mlp_predictions, average='macro', zero_division=0)\n",
        "recall_mlp = recall_score(y_test, mlp_predictions, average='macro', zero_division=0)\n",
        "f1_mlp = f1_score(y_test, mlp_predictions, average='macro', zero_division=0)\n",
        "\n",
        "# Output all metrics in percentage\n",
        "print(f'Precision with MLP on Original Dataset: {precision_mlp * 100:.2f}%')\n",
        "print(f'Recall with MLP on Original Dataset: {recall_mlp * 100:.2f}%')\n",
        "print(f'F1 Score with MLP on Original Dataset: {f1_mlp * 100:.2f}%')\n"
      ]
    },
    {
      "cell_type": "code",
      "execution_count": null,
      "metadata": {
        "id": "Wm4i9ncaXBTY"
      },
      "outputs": [],
      "source": []
    }
  ],
  "metadata": {
    "colab": {
      "provenance": [],
      "toc_visible": true
    },
    "kernelspec": {
      "display_name": "Python 3",
      "name": "python3"
    },
    "language_info": {
      "codemirror_mode": {
        "name": "ipython",
        "version": 3
      },
      "file_extension": ".py",
      "mimetype": "text/x-python",
      "name": "python",
      "nbconvert_exporter": "python",
      "pygments_lexer": "ipython3",
      "version": "3.12.0"
    }
  },
  "nbformat": 4,
  "nbformat_minor": 0
}
